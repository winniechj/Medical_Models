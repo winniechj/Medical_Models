{
 "cells": [
  {
   "cell_type": "markdown",
   "metadata": {},
   "source": [
    "# Inference BioMistral-7B on Xeon\n",
    "### BioMistral: A Collection of Open-Source Pretrained Large Language Models for Medical Domains"
   ]
  },
  {
   "cell_type": "code",
   "execution_count": 2,
   "metadata": {},
   "outputs": [
    {
     "name": "stdin",
     "output_type": "stream",
     "text": [
      "Write anything: Can a human uterus grow back after a full hysterectomy?\n"
     ]
    },
    {
     "name": "stderr",
     "output_type": "stream",
     "text": [
      "The attention mask and the pad token id were not set. As a consequence, you may observe unexpected behavior. Please pass your input's `attention_mask` to obtain reliable results.\n",
      "Setting `pad_token_id` to `eos_token_id`:None for open-end generation.\n"
     ]
    },
    {
     "name": "stdout",
     "output_type": "stream",
     "text": [
      "<s> [INST] Can a human uterus grow back after a full hysterectomy? [/INST] No, once human female's uterus is removed by hysterectomy, it does not return or grow back. Hysterectomy is a very common gynaecological procedure for treating certain gynaecological conditions, through which the uterus is removed. The reason the question can be confused is that some mammals can regenerate their uterus after a full hysterectomy but this is not the case in humans.</s>\n",
      "輸入 =  Can a human uterus grow back after a full hysterectomy? 全子宮切除後，人類子宮能否恢復生長？\n",
      "輸出 =   No, once human female's uterus is removed by hysterectomy, it does not return or grow back. Hysterectomy is a very common gynaecological procedure for treating certain gynaecological conditions, through which the uterus is removed. The reason the question can be confused is that some mammals can regenerate their uterus after a full hysterectomy but this is not the case in humans. 不，一旦人類女性的子宮被子宮切除，它就不會回來或長回來。子宮切除術是一種非常常見的婦科手術，用於治療某些婦科疾病，通過子宮切除。問題可能被混淆的原因是，一些哺乳動物在全子宮切除後可以再生子宮，但人類並非如此。\n"
     ]
    }
   ],
   "source": [
    "# from translate import translator\n",
    "import BioMistral\n",
    "import warnings\n",
    "from translate import Translator\n",
    "translator= Translator(to_lang=\"zh-tw\")\n",
    "warnings.filterwarnings('ignore')\n",
    "warnings.simplefilter('ignore')\n",
    "\n",
    "user_msg = input('Write anything:')\n",
    "output = BioMistral.chex(user_msg)\n",
    "print(\"輸入 = \",user_msg, translator.translate(user_msg))\n",
    "print(\"輸出 = \",output, translator.translate(output))\n"
   ]
  },
  {
   "cell_type": "raw",
   "metadata": {},
   "source": [
    "## 醫療問答集\n",
    "Q: 醫療教育培訓\n",
    "Can a human uterus grow back after a full hysterectomy?\n",
    "子宮全切除後，人類子宮還能再長出來嗎？ 不，人類子宮在子宮完全切除手術後無法再生長。\n",
    "A: No\n",
    "\n",
    "Q: 藥物諮詢、藥劑師輔助系統\n",
    "A 40-year-old man has megaloblastic anemia and early signs of neurological abnormality. The drug most probably required is?\n",
    "一名 40 歲男性患有巨幼細胞性貧血和神經系統異常的早期症狀。最可能需要的藥物是？\n",
    "A: Vitamin B12\n",
    "\n",
    "Q: 醫師問診輔助判斷、病患即時線上問答系統\n",
    "A 27-year-old male presents to urgent care complaining of pain with urination. He reports that the pain started 3 days ago. He has never experienced these symptoms before. He denies gross hematuria or pelvic pain. He is sexually active with his girlfriend, and they consistently use condoms. When asked about recent travel, he admits to recently returning from a boys’ trip” in Cancun where he had unprotected sex 1 night with a girl he met at a bar. The patients medical history includes type I diabetes that is controlled with an insulin pump. His mother has rheumatoid arthritis. The patients temperature is 99 F (37.2 C), blood pressure is 112/74 mmHg, and pulse is 81/min. On physical examination, there are no lesions of the penis or other body rashes. No costovertebral tenderness is appreciated. A urinalysis reveals no blood, glucose, ketones, or proteins but is positive for leukocyte esterase. A urine microscopic evaluation shows a moderate number of white blood cells but no casts or crystals. A urine culture is negative. Which of the following is the most likely cause for the patient’s symptoms? A: Chlamydia trachomatis, B: Systemic lupus erythematosus, C: Mycobacterium tuberculosis, D: Treponema pallidum\n",
    "一名 27 歲男性因排尿疼痛而前來急診。他報告說疼痛是三天前開始的。他以前從未經歷過這些症狀。他否認肉眼血尿或骨盆腔疼痛。他與女友性生活活躍，並且他們一直使用保險套。當被問及最近的旅行時，他承認最近剛從坎昆的一次男孩旅行回來，在那裡他與在酒吧認識的一名女孩發生了一晚無保護的性行為。患者病史包括使用胰島素幫浦控制的 I 型糖尿病。他的母親患有類風濕性關節炎。患者體溫為 99 F (37.2 C)，血壓為 112/74 mmHg，脈搏為 81 次/分鐘。體檢時，陰莖沒有病變或其他身體皮疹。未發現肋椎壓痛。尿液分析未發現血液、葡萄糖、酮或蛋白質，但白血球酯酶呈陽性反應。尿液顯微鏡檢查顯示有中等數量的白血球，但沒有管型或晶體。尿液培養呈陰性。下列哪一項最可能是導致患者症狀的原因？ A：沙眼衣原體，B：系統性紅斑狼瘡，C：結核分枝桿菌，D：梅毒螺旋體\n",
    "A: (A) Chlamydia trachomatis 沙眼衣原體\n"
   ]
  },
  {
   "cell_type": "code",
   "execution_count": null,
   "metadata": {},
   "outputs": [],
   "source": []
  },
  {
   "cell_type": "code",
   "execution_count": null,
   "metadata": {},
   "outputs": [],
   "source": []
  }
 ],
 "metadata": {
  "accelerator": "GPU",
  "colab": {
   "gpuType": "T4",
   "provenance": []
  },
  "kernelspec": {
   "display_name": "Python 3 (ipykernel)",
   "language": "python",
   "name": "python3"
  },
  "language_info": {
   "codemirror_mode": {
    "name": "ipython",
    "version": 3
   },
   "file_extension": ".py",
   "mimetype": "text/x-python",
   "name": "python",
   "nbconvert_exporter": "python",
   "pygments_lexer": "ipython3",
   "version": "3.8.10"
  }
 },
 "nbformat": 4,
 "nbformat_minor": 4
}
